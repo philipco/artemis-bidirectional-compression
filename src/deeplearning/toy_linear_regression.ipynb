{
 "cells": [
  {
   "cell_type": "markdown",
   "metadata": {},
   "source": [
    "Inspired from https://medium.com/@emvnagakarthik/linear-regression-with-pytorch-e122a4f9d96c"
   ]
  },
  {
   "cell_type": "code",
   "execution_count": 1,
   "metadata": {},
   "outputs": [],
   "source": [
    "import sys; sys.path.insert(0, '../..')\n",
    "\n",
    "%matplotlib inline\n",
    "%load_ext autoreload\n",
    "%autoreload 2\n",
    "\n",
    "import torch\n",
    "from torch.utils.data import DataLoader, Subset\n",
    "import torchvision.transforms as transforms\n",
    "from tqdm import tqdm\n",
    "\n",
    "import matplotlib.pyplot as plt\n",
    "from mpl_toolkits.mplot3d import Axes3D\n",
    "\n",
    "from src.utils.Constants import NB_EPOCH, NB_RUN, DEVICE_TYPE, LR, BATCH_SIZE, NB_WORKERS\n",
    "from src.utils.Utilities import pickle_loader, pickle_saver\n",
    "from src.deeplearning.Compression import QuantizationCompressor\n",
    "from src.deeplearning.Utilities import single_run_descent, multiple_run_descent, ResultsOfSeveralDescents\n",
    "from src.deeplearning.Parameters import Parameters\n",
    "from src.deeplearning.FederatedLearningAlgo import *\n",
    "\n",
    "torch.manual_seed(1234)\n",
    "\n",
    "\n",
    "filename = \"mnist\""
   ]
  },
  {
   "cell_type": "code",
   "execution_count": 2,
   "metadata": {},
   "outputs": [],
   "source": [
    "# Defining a function for plotting the line\n",
    "\n",
    "def plot1D(model,dataset,n=0):\n",
    "      \n",
    "    w1 = model.state_dict()['linear.weight'].numpy()[0][0]\n",
    "    b = model.state_dict()['linear.bias'].numpy()\n",
    "    \n",
    "    x1 = dataset.x[:,0].view(-1,1).numpy()\n",
    "    y = dataset.y.numpy()\n",
    "    \n",
    "    yhat = w1*x1 + b\n",
    "    \n",
    "    # plotting\n",
    "    fig = plt.figure()\n",
    "    \n",
    "    plt.plot(x1[:,0],  y[:,0], 'ro', label = 'y')\n",
    "    plt.plot(x1[:,0],  yhat[:,0])\n",
    "    plt.title('Estimated line, iteration: '+ str(n))\n",
    "    plt.show()"
   ]
  },
  {
   "cell_type": "code",
   "execution_count": 3,
   "metadata": {},
   "outputs": [],
   "source": [
    "# Defining a function for plotting the plane\n",
    "\n",
    "def plot2D(model,dataset,n=0):\n",
    "      \n",
    "    w1 = model.state_dict()['linear.weight'].numpy()[0][0]\n",
    "    w2 = model.state_dict()['linear.weight'].numpy()[0][1]\n",
    "    b = model.state_dict()['linear.bias'].numpy()\n",
    "    \n",
    "    x1 = dataset.x[:,0].view(-1,1).numpy()\n",
    "    x2 = dataset.x[:,1].view(-1,1).numpy()\n",
    "    y = dataset.y.numpy()\n",
    "    X,Y = np.meshgrid(np.arange(x1.min(),x1.max(),0.05),np.arange(x2.min(), x2.max(), 0.05))\n",
    "    \n",
    "    yhat = w1*X + w2*Y + b\n",
    "    \n",
    "    # plotting\n",
    "    fig = plt.figure()\n",
    "    ax = fig.gca(projection = '3d')\n",
    "    \n",
    "    ax.plot(x1[:,0], x2[:,0], y[:,0], 'ro', label = 'y')\n",
    "    ax.plot_surface(X,Y,yhat)\n",
    "    ax.set_xlabel('x')\n",
    "    ax.set_ylabel('y')\n",
    "    ax.set_zlabel('z')\n",
    "    ax.legend()\n",
    "    plt.title('Estimated plane iteration: '+ str(n))\n",
    "    plt.show()"
   ]
  },
  {
   "cell_type": "code",
   "execution_count": 4,
   "metadata": {},
   "outputs": [],
   "source": [
    "from src.deeplearning.ToyDataset import Data2d, Data1d\n",
    "my_data = Data1d()"
   ]
  },
  {
   "cell_type": "code",
   "execution_count": 5,
   "metadata": {},
   "outputs": [],
   "source": [
    "\n",
    "\n",
    "traindata_split = torch.utils.data.random_split(my_data, \n",
    "                                                [int(len(my_data) / NB_WORKERS) for _ in range(NB_WORKERS)])\n",
    "\n",
    "# Creating a pytorch loader for a Deep Learning model\n",
    "loaders = [torch.utils.data.DataLoader(my_data, batch_size=2, drop_last=True) for i in range(NB_WORKERS)]\n",
    "\n",
    "# Attention, si je ne SHUFFLE pas,on prend toujours le même éléments -1 !!!! shuffle=True\n"
   ]
  },
  {
   "cell_type": "code",
   "execution_count": 6,
   "metadata": {},
   "outputs": [
    {
     "data": {
      "text/plain": [
       "200"
      ]
     },
     "execution_count": 6,
     "metadata": {},
     "output_type": "execute_result"
    }
   ],
   "source": [
    "len(loaders[0])"
   ]
  },
  {
   "cell_type": "code",
   "execution_count": 7,
   "metadata": {},
   "outputs": [],
   "source": [
    "x, y = traindata_split[0][1]"
   ]
  },
  {
   "cell_type": "code",
   "execution_count": 8,
   "metadata": {},
   "outputs": [
    {
     "data": {
      "text/plain": [
       "<src.deeplearning.ToyDataset.Data1d at 0x7f6d1c68dd50>"
      ]
     },
     "execution_count": 8,
     "metadata": {},
     "output_type": "execute_result"
    }
   ],
   "source": [
    "loaders[0].dataset"
   ]
  },
  {
   "cell_type": "code",
   "execution_count": 9,
   "metadata": {},
   "outputs": [
    {
     "data": {
      "text/plain": [
       "[tensor([[-1.0000],\n",
       "         [-0.9950]]),\n",
       " tensor([[-0.0001],\n",
       "         [ 0.0045]])]"
      ]
     },
     "execution_count": 9,
     "metadata": {},
     "output_type": "execute_result"
    }
   ],
   "source": [
    "next(cycle(loaders[0]))"
   ]
  },
  {
   "cell_type": "code",
   "execution_count": 10,
   "metadata": {},
   "outputs": [
    {
     "data": {
      "text/plain": [
       "<src.deeplearning.ToyDataset.Data1d at 0x7f6d1c68dd50>"
      ]
     },
     "execution_count": 10,
     "metadata": {},
     "output_type": "execute_result"
    }
   ],
   "source": [
    "loaders[0].dataset"
   ]
  },
  {
   "cell_type": "code",
   "execution_count": 11,
   "metadata": {},
   "outputs": [
    {
     "data": {
      "text/plain": [
       "200"
      ]
     },
     "execution_count": 11,
     "metadata": {},
     "output_type": "execute_result"
    }
   ],
   "source": [
    "len(loaders[0])"
   ]
  },
  {
   "cell_type": "code",
   "execution_count": 12,
   "metadata": {},
   "outputs": [
    {
     "name": "stderr",
     "output_type": "stream",
     "text": [
      "/home/constantin/anaconda3/envs/artemis/lib/python3.7/site-packages/torch/nn/modules/loss.py:431: UserWarning: Using a target size (torch.Size([2, 1])) that is different to the input size (torch.Size([2])). This will likely lead to incorrect results due to broadcasting. Please ensure they have the same size.\n",
      "  return F.mse_loss(input, target, reduction=self.reduction)\n"
     ]
    },
    {
     "name": "stdout",
     "output_type": "stream",
     "text": [
      "   it    |   obj    |   acc   \n",
      "       2 | 2.1085e+01 | -8.4815e-02\n",
      "       4 | 1.5158e-01 | -8.8040e-02\n",
      "       6 | 3.7504e-03 | -8.2872e-02\n",
      "       8 | 2.7032e-03 | -8.8865e-02\n",
      "---> final loss: 0.0026958110788655176\n",
      "---> final metrics: -0.08644634085080022\n",
      "CPU times: user 2min 43s, sys: 98.9 ms, total: 2min 43s\n",
      "Wall time: 2min 43s\n"
     ]
    }
   ],
   "source": [
    "%%time\n",
    "fl_algo = single_run_descent(VanillaSGD, Parameters(model_id=\"LinReg\", nb_epoch=10, \n",
    "                                                    verbose=True, batch_size=loaders[0].batch_size), loaders)\n",
    "print(\"---> final loss:\", fl_algo.losses[-1])\n",
    "print(\"---> final metrics:\", fl_algo.metrics[-1])\n",
    "obj_min = fl_algo.losses[-1]\n",
    "pickle_saver(obj_min, filename + \"-obj_min\")"
   ]
  },
  {
   "cell_type": "code",
   "execution_count": 13,
   "metadata": {},
   "outputs": [
    {
     "name": "stdout",
     "output_type": "stream",
     "text": [
      "After training: \n",
      "OrderedDict([('linear.weight', tensor([[0.9999]])), ('linear.bias', tensor([1.0000]))])\n"
     ]
    },
    {
     "data": {
      "image/png": "[encoded data removed]",
      "text/plain": [
       "<Figure size 432x288 with 1 Axes>"
      ]
     },
     "metadata": {
      "needs_background": "light"
     },
     "output_type": "display_data"
    }
   ],
   "source": [
    "print(\"After training: \")\n",
    "print(fl_algo.learners[0].model.state_dict())\n",
    "plot1D(fl_algo.learners[0].model, my_data, 100)"
   ]
  }
 ],
 "metadata": {
  "kernelspec": {
   "display_name": "Python 3",
   "language": "python",
   "name": "python3"
  },
  "language_info": {
   "codemirror_mode": {
    "name": "ipython",
    "version": 3
   },
   "file_extension": ".py",
   "mimetype": "text/x-python",
   "name": "python",
   "nbconvert_exporter": "python",
   "pygments_lexer": "ipython3",
   "version": "3.7.7"
  }
 },
 "nbformat": 4,
 "nbformat_minor": 4
}
