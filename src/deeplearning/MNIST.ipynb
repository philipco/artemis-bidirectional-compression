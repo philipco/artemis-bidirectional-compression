{
 "cells": [
  {
   "cell_type": "markdown",
   "metadata": {
    "colab_type": "text",
    "id": "VB4qCry1qA3T"
   },
   "source": [
    "In this notebook we sketch the implementation of [Artemis](https://arxiv.org/pdf/2006.14591.pdf). In artemis, every device keeps a memory variable $h_{i}$ to track the gradient in order to insure the convergence, and exchanges the compressed version of the difference between the gradient and this value with the server."
   ]
  },
  {
   "cell_type": "code",
   "execution_count": 2,
   "metadata": {
    "colab": {},
    "colab_type": "code",
    "id": "7T6OGZ0Zp8rK"
   },
   "outputs": [
    {
     "name": "stdout",
     "output_type": "stream",
     "text": [
      "The autoreload extension is already loaded. To reload it, use:\n",
      "  %reload_ext autoreload\n"
     ]
    }
   ],
   "source": [
    "import sys; sys.path.insert(0, '../..')\n",
    "\n",
    "%matplotlib inline\n",
    "%load_ext autoreload\n",
    "%autoreload 2\n",
    "\n",
    "import torch\n",
    "from torch.utils.data import DataLoader, Subset\n",
    "from torchvision.datasets import MNIST\n",
    "import torchvision.transforms as transforms\n",
    "from tqdm import tqdm\n",
    "\n",
    "from src.utils.Constants import NB_EPOCH, NB_RUN, DEVICE_TYPE, LR, BATCH_SIZE, NB_WORKERS\n",
    "from src.utils.Utilities import pickle_loader, pickle_saver\n",
    "from src.deeplearning.Compression import QuantizationCompressor\n",
    "from src.deeplearning.Utilities import multiple_run_descent, ResultsOfSeveralDescents\n",
    "from src.deeplearning.Parameters import Parameters\n",
    "from src.deeplearning.FederatedLearningAlgo import *\n",
    "\n",
    "\n",
    "filename = \"mnist\""
   ]
  },
  {
   "cell_type": "markdown",
   "metadata": {
    "colab_type": "text",
    "id": "wbEIsupVqJYd"
   },
   "source": [
    "# Compression \n",
    "\n",
    "\n",
    "We first need to implement a compression scheme, in this example we use quantization"
   ]
  },
  {
   "cell_type": "markdown",
   "metadata": {
    "colab_type": "text",
    "id": "0zSULOaLqWqY"
   },
   "source": [
    "# Dataset\n",
    "\n",
    "We simply use iid MNIST here, can be changed with any dataset later, Note that you only need to specify a list of `torch.utils.data.DataLoaders`, each of them is a loader of the dataset of a given client.\n"
   ]
  },
  {
   "cell_type": "code",
   "execution_count": 3,
   "metadata": {
    "colab": {},
    "colab_type": "code",
    "id": "vMMUjn20qvxH"
   },
   "outputs": [],
   "source": [
    "trans = transforms.Compose([transforms.ToTensor(),\n",
    "                                 transforms.Normalize((0.5,), (1.0,))\n",
    "                                 ])\n",
    "\n",
    "# TODO : To test, not sure what it does exactly.\n",
    "dataset = Subset(MNIST(root=\"./data\", download=True, transform=trans), range(300))\n",
    "\n",
    "loaders = []\n",
    "for _ in range(NB_WORKERS):\n",
    "    loader = DataLoader(dataset, shuffle=True, batch_size=BATCH_SIZE)\n",
    "    loaders.append(loader)\n"
   ]
  },
  {
   "cell_type": "markdown",
   "metadata": {
    "colab_type": "text",
    "id": "wX39SBLUqQms"
   },
   "source": [
    "# Learner\n",
    "\n",
    "We also implement a `Learner` class that will be used to train and evaluate a deep-learning model"
   ]
  },
  {
   "cell_type": "markdown",
   "metadata": {
    "colab_type": "text",
    "id": "1Aur3UpIsOdD"
   },
   "source": [
    "# Models\n",
    "\n",
    "We use a two layer neural network, can be replaced with whatever is needed."
   ]
  },
  {
   "cell_type": "markdown",
   "metadata": {
    "colab_type": "text",
    "id": "JLX6pwAQtjOw"
   },
   "source": [
    "## Artemis\n",
    "\n",
    "\n",
    "This is the core class of this project "
   ]
  },
  {
   "cell_type": "markdown",
   "metadata": {},
   "source": [
    "Computing the best approximation of the model."
   ]
  },
  {
   "cell_type": "code",
   "execution_count": 4,
   "metadata": {
    "colab": {
     "base_uri": "https://localhost:8080/",
     "height": 973
    },
    "colab_type": "code",
    "id": "AiVoBIsFQoDH",
    "outputId": "4e28693e-dc0b-49ed-845c-3516a1835308"
   },
   "outputs": [
    {
     "name": "stdout",
     "output_type": "stream",
     "text": [
      "---> final loss: 11.417719316482543\n",
      "CPU times: user 2min 34s, sys: 2min 57s, total: 5min 32s\n",
      "Wall time: 1min 1s\n"
     ]
    }
   ],
   "source": [
    "%%time\n",
    "artemis = VanillaSGD(Parameters(), loaders)\n",
    "for round_idx in range(100):\n",
    "    artemis.step()\n",
    "print(\"---> final loss:\", artemis.losses[-1])\n",
    "obj_min = artemis.losses[-1]\n",
    "pickle_saver(obj_min, filename + \"-obj_min\")"
   ]
  },
  {
   "cell_type": "code",
   "execution_count": null,
   "metadata": {},
   "outputs": [
    {
     "name": "stderr",
     "output_type": "stream",
     "text": [
      "\r",
      "  0%|          | 0/3 [00:00<?, ?it/s]"
     ]
    },
    {
     "name": "stdout",
     "output_type": "stream",
     "text": [
      "---> final loss: 11.51985592842102\n"
     ]
    },
    {
     "name": "stderr",
     "output_type": "stream",
     "text": [
      "\r",
      " 33%|███▎      | 1/3 [00:31<01:02, 31.05s/it]"
     ]
    },
    {
     "name": "stdout",
     "output_type": "stream",
     "text": [
      "---> final loss: 11.51985592842102\n",
      "---> final loss: 11.516035795211792\n"
     ]
    },
    {
     "name": "stderr",
     "output_type": "stream",
     "text": [
      "\r",
      " 67%|██████▋   | 2/3 [01:04<00:31, 31.73s/it]"
     ]
    },
    {
     "name": "stdout",
     "output_type": "stream",
     "text": [
      "---> final loss: 11.516035795211792\n"
     ]
    }
   ],
   "source": [
    "%%time\n",
    "all_descent = {}\n",
    "cpt = 1\n",
    "for fl_algo in tqdm([VanillaSGD, Diana, Artemis]):\n",
    "    multiple_sg_descent = multiple_run_descent(fl_algo=fl_algo, parameters=Parameters(), loaders=loaders)\n",
    "    all_descent[cpt] = multiple_sg_descent\n",
    "    cpt += 1\n",
    "res = ResultsOfSeveralDescents(all_descent, NB_WORKERS)\n",
    "pickle_saver(res, filename + \"-descent\")"
   ]
  },
  {
   "cell_type": "code",
   "execution_count": null,
   "metadata": {},
   "outputs": [],
   "source": [
    "from src.utils.ErrorPlotter import *\n",
    "obj_min = pickle_loader(filename + \"-obj_min\")\n",
    "res = pickle_loader(filename + \"-descent\")\n",
    "\n",
    "\n",
    "plot_error_dist(res.get_loss(obj_min), res.names, res.nb_devices_for_the_run, res.n_dimensions,\n",
    "                all_error=res.get_std(obj_min), x_legend=\"Number of passes on data\\n(non-iid)\") "
   ]
  },
  {
   "cell_type": "code",
   "execution_count": null,
   "metadata": {},
   "outputs": [],
   "source": [
    "all_descent[3].losses"
   ]
  },
  {
   "cell_type": "markdown",
   "metadata": {
    "colab_type": "text",
    "id": "dVNXPtHPy40Q"
   },
   "source": [
    "# TODO tasks\n",
    "\n",
    "* Complete the #TODO tasks left inside the code\n",
    "* Use only one learner instead of a list of learners for memory efficiency\n",
    "* Check if the compression class is working (I copied it directly from choco-SGD repo without any tests)\n",
    "* Test the evolution of the parameters on a \"toy example\", for example linear regression."
   ]
  }
 ],
 "metadata": {
  "accelerator": "GPU",
  "colab": {
   "collapsed_sections": [],
   "name": "Compression in Federated Learning.ipynb",
   "provenance": []
  },
  "kernelspec": {
   "display_name": "Python 3",
   "language": "python",
   "name": "python3"
  },
  "language_info": {
   "codemirror_mode": {
    "name": "ipython",
    "version": 3
   },
   "file_extension": ".py",
   "mimetype": "text/x-python",
   "name": "python",
   "nbconvert_exporter": "python",
   "pygments_lexer": "ipython3",
   "version": "3.7.7"
  }
 },
 "nbformat": 4,
 "nbformat_minor": 1
}
